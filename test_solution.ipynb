{
 "cells": [
  {
   "cell_type": "code",
   "execution_count": 7,
   "metadata": {},
   "outputs": [],
   "source": [
    "import pandas as pd\n",
    "from sklearn.preprocessing import LabelEncoder\n",
    "from sklearn.model_selection import train_test_split\n",
    "from sklearn.ensemble import RandomForestRegressor\n",
    "\n",
    "# Read train and test data\n",
    "train_data = pd.read_csv('train.csv', delimiter=',')\n",
    "test_data = pd.read_csv('test.csv', delimiter=',')\n",
    "\n",
    "selected_features = ['LandContour', 'GarageYrBlt', 'FullBath', '1stFlrSF', 'BsmtFinSF1', \n",
    "                     'TotRmsAbvGrd', 'ExterQual', 'OpenPorchSF', 'Heating', 'Condition2', \n",
    "                     'OverallQual', 'GarageCars', 'KitchenQual', 'KitchenAbvGr','GrLivArea', '2ndFlrSF', 'CentralAir', \n",
    "                     'BsmtQual', 'TotalBsmtSF', 'Fireplaces']\n",
    "\n",
    "# Concatenating training and test data\n",
    "data = pd.concat([train_data[selected_features], test_data[selected_features]])\n",
    "\n",
    "\n",
    "# Dictionary for converting categorical features into numeric features\n",
    "qual_mapping = {'Ex': 5, 'Gd': 4, 'TA': 3, 'Fa': 2, 'Po': 1, 'NA': 0}\n",
    "\n",
    "# Converting categorical features to numeric features using LabelEncoder\n",
    "le = LabelEncoder()\n",
    "for feature in data.select_dtypes(include='object'):\n",
    "    if feature not in ('ExterQual','KitchenQual', 'BsmtQual'):\n",
    "        data[feature] = le.fit_transform(data[feature])\n",
    "    else:\n",
    "        data[feature] = le.fit_transform(data[feature].map(qual_mapping))\n",
    "\n",
    "# Splitting the data back into training and test set\n",
    "X = data[:train_data.shape[0]]\n",
    "y = train_data['SalePrice']\n",
    "final_testing_data = data[train_data.shape[0]:]\n",
    "\n",
    "# Splitting the dataset into random train and test subsets\n",
    "X_train, X_test, y_train, y_test = train_test_split(X, y, test_size=0.44, random_state=42) \n",
    "\n",
    "\n",
    "# Random forest model training\n",
    "rf = RandomForestRegressor(random_state=42)\n",
    "rf.fit(X_train, y_train)\n",
    "\n",
    "# Prediction on a trained model\n",
    "final_pred = rf.predict(final_testing_data)\n",
    "\n",
    "# Creating DataFrame for submission.csv \n",
    "df = pd.DataFrame({'Id': range(1, 1 + len(final_pred)),'SalePrice': final_pred})\n",
    "df.to_csv('submission.csv', index=False)\n",
    "\n",
    "\n"
   ]
  }
 ],
 "metadata": {
  "kernelspec": {
   "display_name": "Python 3",
   "language": "python",
   "name": "python3"
  },
  "language_info": {
   "codemirror_mode": {
    "name": "ipython",
    "version": 3
   },
   "file_extension": ".py",
   "mimetype": "text/x-python",
   "name": "python",
   "nbconvert_exporter": "python",
   "pygments_lexer": "ipython3",
   "version": "3.12.0"
  }
 },
 "nbformat": 4,
 "nbformat_minor": 2
}
